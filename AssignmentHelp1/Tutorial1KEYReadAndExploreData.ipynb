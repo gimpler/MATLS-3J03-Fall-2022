{
 "cells": [
  {
   "cell_type": "code",
   "execution_count": 165,
   "id": "8355e656-82c4-45db-baad-6e3fab3a5593",
   "metadata": {},
   "outputs": [
    {
     "name": "stdin",
     "output_type": "stream",
     "text": [
      "Once deleted, variables cannot be recovered. Proceed (y/[n])?  y\n"
     ]
    }
   ],
   "source": [
    "%reset"
   ]
  },
  {
   "cell_type": "markdown",
   "id": "dressed-applicant",
   "metadata": {
    "tags": []
   },
   "source": [
    "# Reading data into python"
   ]
  },
  {
   "cell_type": "markdown",
   "id": "eacd9ede-383e-4a39-ab78-2a64000ae410",
   "metadata": {
    "tags": []
   },
   "source": [
    "## 1 Read the \"six-point-board-thickness.csv\" file into Python. You will need to import some packages to use. Take a look through the dataframe to review.   "
   ]
  },
  {
   "cell_type": "code",
   "execution_count": 168,
   "id": "9c181026-2c53-4234-bf79-1e59b255af24",
   "metadata": {},
   "outputs": [],
   "source": [
    "import numpy as np\n",
    "import pandas as pd"
   ]
  },
  {
   "cell_type": "code",
   "execution_count": 169,
   "id": "radio-possibility",
   "metadata": {},
   "outputs": [
    {
     "name": "stdout",
     "output_type": "stream",
     "text": [
      "             Date.Time  Pos1  Pos2  Pos3  Pos4  Pos5  Pos6\n",
      "0      2010-02-18 3:04  1761  1739  1758  1677  1684  1692\n",
      "1      2010-02-18 3:37  1801  1688  1753  1741  1692  1675\n",
      "2      2010-02-18 3:37  1697  1682  1663  1671  1685  1651\n",
      "3      2010-02-18 3:37  1679  1712  1672  1703  1683  1674\n",
      "4      2010-02-18 3:37  1699  1688  1699  1678  1688  1705\n",
      "...                ...   ...   ...   ...   ...   ...   ...\n",
      "4995  2010-02-18 13:15  1690  1701  1690  1694  1735  1695\n",
      "4996  2010-02-18 13:15  1703  1674  1666  1694  1659  1728\n",
      "4997  2010-02-18 13:16  1657  1667  1675  1654  1648  1609\n",
      "4998  2010-02-18 13:16  1746  1717  1638  1723  1703  1706\n",
      "4999  2010-02-18 13:16  1668  1680  1668  1669  1651  1629\n",
      "\n",
      "[5000 rows x 7 columns]\n"
     ]
    }
   ],
   "source": [
    "all_boards = pd.read_csv('six-point-board-thickness.csv')\n",
    "print(all_boards)"
   ]
  },
  {
   "cell_type": "markdown",
   "id": "a0130a83-2569-4c85-9257-a08727b7eb9e",
   "metadata": {},
   "source": [
    "## 2 Explore the dataframe and summarize the dataframe.  What are the 3 attributes and 3 components of the dataframe? Are there any missing values?\n",
    "\n",
    "type(all_boards)  \n",
    "len(all_boards)  \n",
    "all_boards.shape  \n",
    "all_boards.ndim  \n",
    "all_boards.size  \n",
    "all_boards.columns  \n",
    "all_boards.index  \n",
    "all_boards.info()  \n",
    "all_boards.to_numpy()  \n",
    "all_boards.head()\n",
    "all_boards.describe()\n",
    "all_boards.dtypes"
   ]
  },
  {
   "cell_type": "code",
   "execution_count": 176,
   "id": "0402b095-0f12-4c07-880a-946a6b1b2a0b",
   "metadata": {},
   "outputs": [
    {
     "name": "stdout",
     "output_type": "stream",
     "text": [
      "<class 'pandas.core.frame.DataFrame'>\n",
      "RangeIndex: 5000 entries, 0 to 4999\n",
      "Data columns (total 7 columns):\n",
      " #   Column     Non-Null Count  Dtype \n",
      "---  ------     --------------  ----- \n",
      " 0   Date.Time  5000 non-null   object\n",
      " 1   Pos1       5000 non-null   int64 \n",
      " 2   Pos2       5000 non-null   int64 \n",
      " 3   Pos3       5000 non-null   int64 \n",
      " 4   Pos4       5000 non-null   int64 \n",
      " 5   Pos5       5000 non-null   int64 \n",
      " 6   Pos6       5000 non-null   int64 \n",
      "dtypes: int64(6), object(1)\n",
      "memory usage: 273.6+ KB\n"
     ]
    }
   ],
   "source": [
    "all_boards.info()"
   ]
  },
  {
   "cell_type": "markdown",
   "id": "59083bc4-9351-491c-8969-3c2d078d12bb",
   "metadata": {},
   "source": [
    "There are 3 attributes to describe the size of the dataframe:\n",
    "\n",
    "The .shape attribute will show the dimensionality. The result is a tuple containing the number of rows and columns.\n",
    "The .ndim atribute will show the number of dimensions of the dataframe.\n",
    "The .size attribute will show the total number of values.\n",
    "\n",
    "There are 3 components of the dataframe: This is what makes the arrangement of a data matrix tidy. First you should arrange, or tidy, or clean your data into the form that you want.\n",
    "\n",
    "The columns names can be found with the .columns attribute.\n",
    "The .index attribute returns the row labels\n",
    "The .values attribute returns the dataframe values. You can also use the .to_numpy() to create a 2D values array."
   ]
  },
  {
   "cell_type": "code",
   "execution_count": null,
   "id": "b8a9007f-1c5a-4b2f-b5be-3b60e53a3181",
   "metadata": {},
   "outputs": [],
   "source": []
  },
  {
   "cell_type": "code",
   "execution_count": null,
   "id": "14d46419-07a5-4193-aabc-2b391ef4af83",
   "metadata": {},
   "outputs": [],
   "source": []
  },
  {
   "attachments": {
    "1ebc0b7b-8d8b-4b08-af9f-705a6b6c7e3f.png": {
     "image/png": "[encoded data removed]"
    }
   },
   "cell_type": "markdown",
   "id": "b5c149ff-dc20-45ec-8066-1d3fb1fcf091",
   "metadata": {
    "jp-MarkdownHeadingCollapsed": true,
    "tags": []
   },
   "source": [
    "![DataTypesTutorial1Figure.png](attachment:1ebc0b7b-8d8b-4b08-af9f-705a6b6c7e3f.png)## 3 What are the datatypes for the variables?  Are these the datatypes you want for the variables?\n",
    "![](DataTypesTutorial1Figure.png)"
   ]
  },
  {
   "cell_type": "code",
   "execution_count": 101,
   "id": "be5657e3-14e9-4254-a1aa-16e3f5aa2a1c",
   "metadata": {},
   "outputs": [
    {
     "data": {
      "text/plain": [
       "Date.Time    object\n",
       "Pos1          int64\n",
       "Pos2          int64\n",
       "Pos3          int64\n",
       "Pos4          int64\n",
       "Pos5          int64\n",
       "Pos6          int64\n",
       "dtype: object"
      ]
     },
     "execution_count": 101,
     "metadata": {},
     "output_type": "execute_result"
    }
   ],
   "source": [
    "all_boards.dtypes"
   ]
  },
  {
   "cell_type": "markdown",
   "id": "30a72f7f-e0a3-4a7b-a212-c583a0c6680e",
   "metadata": {},
   "source": [
    "## 4 Let's convert the Date.Time object type to a pandas datetime type so that we can use it in a time series plot\n",
    "\n",
    "### to_datetime\n",
    "\n",
    "all_boards[\"Date.Time\"]=pd.to_datetime(all_boards[\"Date.Time\"])\n",
    "\n",
    "all_boards[\"time\"]=all_boards[\"Date.Time\"].dt.time\n",
    "\n",
    "### .astype\n",
    "\n",
    "all_boards[\"Date.Time\"]=all_boards[\"Date.Time\"].astype(\"datetime64\")\n"
   ]
  },
  {
   "cell_type": "code",
   "execution_count": 177,
   "id": "65ce3c1b-ccac-4196-8a66-fc6cd606f4a1",
   "metadata": {},
   "outputs": [
    {
     "data": {
      "text/plain": [
       "Date.Time    datetime64[ns]\n",
       "Pos1                  int64\n",
       "Pos2                  int64\n",
       "Pos3                  int64\n",
       "Pos4                  int64\n",
       "Pos5                  int64\n",
       "Pos6                  int64\n",
       "dtype: object"
      ]
     },
     "execution_count": 177,
     "metadata": {},
     "output_type": "execute_result"
    }
   ],
   "source": [
    "all_boards[\"Date.Time\"]=all_boards[\"Date.Time\"].astype(\"datetime64\")\n",
    "all_boards.dtypes"
   ]
  },
  {
   "cell_type": "code",
   "execution_count": 178,
   "id": "96fa0b50-5e00-467c-a5b4-68b5632b4b54",
   "metadata": {},
   "outputs": [
    {
     "name": "stdout",
     "output_type": "stream",
     "text": [
      "<class 'pandas.core.frame.DataFrame'>\n",
      "RangeIndex: 5000 entries, 0 to 4999\n",
      "Data columns (total 8 columns):\n",
      " #   Column     Non-Null Count  Dtype         \n",
      "---  ------     --------------  -----         \n",
      " 0   Date.Time  5000 non-null   datetime64[ns]\n",
      " 1   Pos1       5000 non-null   int64         \n",
      " 2   Pos2       5000 non-null   int64         \n",
      " 3   Pos3       5000 non-null   int64         \n",
      " 4   Pos4       5000 non-null   int64         \n",
      " 5   Pos5       5000 non-null   int64         \n",
      " 6   Pos6       5000 non-null   int64         \n",
      " 7   Time       5000 non-null   object        \n",
      "dtypes: datetime64[ns](1), int64(6), object(1)\n",
      "memory usage: 312.6+ KB\n"
     ]
    }
   ],
   "source": [
    "all_boards['Time'] = all_boards['Date.Time'].dt.time\n",
    "all_boards.info()"
   ]
  },
  {
   "cell_type": "markdown",
   "id": "3bfda754-f3a9-4e5a-84db-83f424f3def9",
   "metadata": {},
   "source": [
    "## 5 Plot a time series plot for Position 1 over time. \n",
    "\n",
    "Use:  \n",
    "all_boards.plot(\"Time\",\"Pos1\")"
   ]
  },
  {
   "cell_type": "code",
   "execution_count": 179,
   "id": "d78aec62-333b-4c65-aac0-988854baf742",
   "metadata": {},
   "outputs": [
    {
     "data": {
      "text/plain": [
       "<AxesSubplot:xlabel='Time'>"
      ]
     },
     "execution_count": 179,
     "metadata": {},
     "output_type": "execute_result"
    },
    {
     "data": {
      "image/png": "[encoded data removed]",
      "text/plain": [
       "<Figure size 720x432 with 1 Axes>"
      ]
     },
     "metadata": {},
     "output_type": "display_data"
    }
   ],
   "source": [
    "all_boards.plot(\"Time\",\"Pos1\")"
   ]
  },
  {
   "cell_type": "markdown",
   "id": "0c774c31-4396-486e-b015-7b1f32c12f95",
   "metadata": {},
   "source": [
    "## 6 Drop the Time.Date and Time columns"
   ]
  },
  {
   "cell_type": "code",
   "execution_count": 180,
   "id": "bc1b83dc-bf4e-45f0-bd60-5b915ee5c629",
   "metadata": {},
   "outputs": [
    {
     "name": "stdout",
     "output_type": "stream",
     "text": [
      "      Pos1  Pos2  Pos3  Pos4  Pos5  Pos6\n",
      "0     1761  1739  1758  1677  1684  1692\n",
      "1     1801  1688  1753  1741  1692  1675\n",
      "2     1697  1682  1663  1671  1685  1651\n",
      "3     1679  1712  1672  1703  1683  1674\n",
      "4     1699  1688  1699  1678  1688  1705\n",
      "...    ...   ...   ...   ...   ...   ...\n",
      "4995  1690  1701  1690  1694  1735  1695\n",
      "4996  1703  1674  1666  1694  1659  1728\n",
      "4997  1657  1667  1675  1654  1648  1609\n",
      "4998  1746  1717  1638  1723  1703  1706\n",
      "4999  1668  1680  1668  1669  1651  1629\n",
      "\n",
      "[5000 rows x 6 columns]\n"
     ]
    }
   ],
   "source": [
    "boards_no_time = all_boards.drop(columns=[\"Date.Time\",\"Time\"])\n",
    "print(boards_no_time)"
   ]
  },
  {
   "cell_type": "markdown",
   "id": "e28aee52-9586-40f0-a638-316de9a35388",
   "metadata": {},
   "source": [
    "## 7 Filter the dataframe (all columns) that have less than 1650 mils for position 1:   pos1 < 1650\n"
   ]
  },
  {
   "cell_type": "code",
   "execution_count": 181,
   "id": "0ec12f9f-bd73-4647-b66c-ea4a849f375c",
   "metadata": {},
   "outputs": [
    {
     "name": "stdout",
     "output_type": "stream",
     "text": [
      "      Pos1  Pos2  Pos3  Pos4  Pos5  Pos6\n",
      "10    1546  1697  1654  1688  1668  1703\n",
      "11    1524  1668  1594  1686  1741  1730\n",
      "23    1608  1664  1641  1651  1633  1594\n",
      "48    1636  1650  1649  1666  1673  1665\n",
      "55    1643  1649  1624  1667  1662  1660\n",
      "...    ...   ...   ...   ...   ...   ...\n",
      "4932  1632  1608  1634  1667  1674  1706\n",
      "4933  1619  1692  1696  1711  1742  1728\n",
      "4961  1622  1627  1641  1664  1663  1660\n",
      "4969  1645  1680  1658  1747  1793  1808\n",
      "4974  1648  1612  1620  1637  1611  1694\n",
      "\n",
      "[539 rows x 6 columns]\n"
     ]
    }
   ],
   "source": [
    "# Get all columns (the whole dataframe) with rows which have pos1 < 1650 mils\n",
    "# Method 1 Square brackets column indexing \n",
    "less_1650_1 = boards_no_time[boards_no_time[\"Pos1\"] < 1650]\n",
    "print(less_1650_1)"
   ]
  },
  {
   "cell_type": "code",
   "execution_count": 111,
   "id": "d21ba645-f595-4c02-bc12-aac748ce739d",
   "metadata": {},
   "outputs": [
    {
     "name": "stdout",
     "output_type": "stream",
     "text": [
      "      Pos1  Pos2  Pos3  Pos4  Pos5  Pos6\n",
      "10    1546  1697  1654  1688  1668  1703\n",
      "11    1524  1668  1594  1686  1741  1730\n",
      "23    1608  1664  1641  1651  1633  1594\n",
      "48    1636  1650  1649  1666  1673  1665\n",
      "55    1643  1649  1624  1667  1662  1660\n",
      "...    ...   ...   ...   ...   ...   ...\n",
      "4932  1632  1608  1634  1667  1674  1706\n",
      "4933  1619  1692  1696  1711  1742  1728\n",
      "4961  1622  1627  1641  1664  1663  1660\n",
      "4969  1645  1680  1658  1747  1793  1808\n",
      "4974  1648  1612  1620  1637  1611  1694\n",
      "\n",
      "[539 rows x 6 columns]\n"
     ]
    }
   ],
   "source": [
    "# Get all columns (the whole dataframe) with rows which have pos1 < 1650 mils\n",
    "# Method 2 is using the location labeling of the dataframe. Using the .loc will enable you to select and slice more effeciently  \n",
    "less_1650_2 = boards_no_time.loc[boards_no_time['Pos1'] < 1650]\n",
    "print(less_1650_2)"
   ]
  },
  {
   "cell_type": "code",
   "execution_count": 112,
   "id": "ccf25187-7f8f-4d3d-8344-2469970252d2",
   "metadata": {},
   "outputs": [
    {
     "name": "stdout",
     "output_type": "stream",
     "text": [
      "      Pos1  Pos2  Pos3  Pos4  Pos5  Pos6\n",
      "10    1546  1697  1654  1688  1668  1703\n",
      "11    1524  1668  1594  1686  1741  1730\n",
      "23    1608  1664  1641  1651  1633  1594\n",
      "48    1636  1650  1649  1666  1673  1665\n",
      "55    1643  1649  1624  1667  1662  1660\n",
      "...    ...   ...   ...   ...   ...   ...\n",
      "4932  1632  1608  1634  1667  1674  1706\n",
      "4933  1619  1692  1696  1711  1742  1728\n",
      "4961  1622  1627  1641  1664  1663  1660\n",
      "4969  1645  1680  1658  1747  1793  1808\n",
      "4974  1648  1612  1620  1637  1611  1694\n",
      "\n",
      "[539 rows x 6 columns]\n"
     ]
    }
   ],
   "source": [
    "# Get all columns (the whole dataframe) with rows which have pos1 < 1650 mils\n",
    "# Method 3 Use of the pandas .query function\n",
    "less_1650_3=boards_no_time.query('Pos1 < 1650')\n",
    "print(less_1650_3)"
   ]
  },
  {
   "cell_type": "markdown",
   "id": "65125a01-a530-4642-a8c8-97240f127432",
   "metadata": {},
   "source": [
    "## 8 Create a Barplot for thickness by position\n",
    "\n",
    "import and use the plotting libraries, either matplotlib or seaborn"
   ]
  },
  {
   "cell_type": "code",
   "execution_count": 183,
   "id": "26b228bc-74cc-47ed-bc13-5cadefb5fbc5",
   "metadata": {},
   "outputs": [],
   "source": [
    "import matplotlib.pyplot as plt\n",
    "import seaborn as sns"
   ]
  },
  {
   "cell_type": "code",
   "execution_count": 114,
   "id": "b197b201-0090-4744-97d7-3a61cd420f22",
   "metadata": {},
   "outputs": [
    {
     "name": "stdout",
     "output_type": "stream",
     "text": [
      "Pos1    1689.3934\n",
      "Pos2    1680.9126\n",
      "Pos3    1678.2108\n",
      "Pos4    1687.3510\n",
      "Pos5    1682.8952\n",
      "Pos6    1681.5778\n",
      "dtype: float64\n"
     ]
    }
   ],
   "source": [
    "mean_mils=boards_no_time.mean()\n",
    "print(mean_mils)"
   ]
  },
  {
   "cell_type": "code",
   "execution_count": 115,
   "id": "c5dc5bd2-50e5-46ca-a9e9-e4083cca47e4",
   "metadata": {},
   "outputs": [
    {
     "data": {
      "text/plain": [
       "Text(0, 0.5, 'Thickness (mils)')"
      ]
     },
     "execution_count": 115,
     "metadata": {},
     "output_type": "execute_result"
    },
    {
     "data": {
      "image/png": "[encoded data removed]",
      "text/plain": [
       "<Figure size 720x432 with 1 Axes>"
      ]
     },
     "metadata": {},
     "output_type": "display_data"
    }
   ],
   "source": [
    "plt.bar(x=[\"Pos1\",\"Pos2\",\"Pos3\",\"Pos4\",\"Pos5\",\"Pos6\"],height=mean_mils,color='black')\n",
    "plt.xlabel(\"Position\", size=14)\n",
    "plt.ylabel(\"Thickness (mils)\", size=14)"
   ]
  },
  {
   "cell_type": "code",
   "execution_count": 184,
   "id": "b09bfeb5-8701-401c-8d6f-b6a88322d27b",
   "metadata": {},
   "outputs": [
    {
     "data": {
      "text/plain": [
       "<AxesSubplot:>"
      ]
     },
     "execution_count": 184,
     "metadata": {},
     "output_type": "execute_result"
    },
    {
     "data": {
      "image/png": "[encoded data removed]",
      "text/plain": [
       "<Figure size 720x432 with 1 Axes>"
      ]
     },
     "metadata": {},
     "output_type": "display_data"
    }
   ],
   "source": [
    "sns.barplot(data=boards_no_time)"
   ]
  },
  {
   "cell_type": "code",
   "execution_count": 116,
   "id": "8b7fc8b0-b106-44f3-9878-8c14d50681e1",
   "metadata": {},
   "outputs": [
    {
     "data": {
      "text/plain": [
       "Text(0.5, 1.0, 'Boards Thickness by Position')"
      ]
     },
     "execution_count": 116,
     "metadata": {},
     "output_type": "execute_result"
    },
    {
     "data": {
      "image/png": "[encoded data removed]",
      "text/plain": [
       "<Figure size 720x432 with 1 Axes>"
      ]
     },
     "metadata": {},
     "output_type": "display_data"
    }
   ],
   "source": [
    "# Seaborn!.  Note the standard deviation added.\n",
    "sns.set(rc = {'figure.figsize':(10,6)})\n",
    "sns.set_style(\"white\")\n",
    "barplotC = sns.barplot(data=boards_no_time, color=\"gray\", ci='sd')\n",
    "barplotC.set_xticklabels(barplotC.get_xticklabels(), rotation=45)\n",
    "barplotC.set_xlabel(\"Position\", size=14)\n",
    "barplotC.set_ylabel(\"Thickness (mils)\", size=14)\n",
    "barplotC.set_title(\"Boards Thickness by Position\", size=14)"
   ]
  },
  {
   "cell_type": "markdown",
   "id": "08278e67-12d9-478d-b712-5945c464f1c7",
   "metadata": {},
   "source": [
    "## 9 Create a Boxplot for thickness by position. Copy and paste the boxplot to a word document.   \n",
    "\n",
    "For Position 1, identify the elements of the boxplot:  5 number summary and any outliers"
   ]
  },
  {
   "cell_type": "code",
   "execution_count": 120,
   "id": "45dacb4f-b42e-400f-be77-bf50617614f5",
   "metadata": {},
   "outputs": [
    {
     "data": {
      "text/plain": [
       "Text(0, 0.5, 'Thickness (mils)')"
      ]
     },
     "execution_count": 120,
     "metadata": {},
     "output_type": "execute_result"
    },
    {
     "data": {
      "image/png": "[encoded data removed]",
      "text/plain": [
       "<Figure size 720x432 with 1 Axes>"
      ]
     },
     "metadata": {},
     "output_type": "display_data"
    }
   ],
   "source": [
    "plt.boxplot(x=boards_no_time)\n",
    "plt.xlabel(\"Position\", size=14)\n",
    "plt.ylabel(\"Thickness (mils)\", size=14)"
   ]
  },
  {
   "cell_type": "code",
   "execution_count": 185,
   "id": "68fa4588-bf17-4139-bfe6-c0cbfbe0e8a3",
   "metadata": {},
   "outputs": [
    {
     "data": {
      "text/plain": [
       "<AxesSubplot:>"
      ]
     },
     "execution_count": 185,
     "metadata": {},
     "output_type": "execute_result"
    },
    {
     "data": {
      "image/png": "[encoded data removed]",
      "text/plain": [
       "<Figure size 720x432 with 1 Axes>"
      ]
     },
     "metadata": {},
     "output_type": "display_data"
    }
   ],
   "source": [
    "sns.boxplot(data=boards_no_time)\n",
    "# click on the figure and use 'Create New View for Output' to copy and paste as a figure"
   ]
  },
  {
   "cell_type": "code",
   "execution_count": 187,
   "id": "6f4ad1e7-456b-4584-9e8a-8476202c652f",
   "metadata": {},
   "outputs": [
    {
     "data": {
      "text/plain": [
       "count    5000.000000\n",
       "mean     1689.393400\n",
       "std        43.838524\n",
       "min       880.000000\n",
       "25%      1670.000000\n",
       "50%      1685.000000\n",
       "75%      1705.000000\n",
       "max      1902.000000\n",
       "Name: Pos1, dtype: float64"
      ]
     },
     "execution_count": 187,
     "metadata": {},
     "output_type": "execute_result"
    }
   ],
   "source": [
    "boards_no_time[\"Pos1\"].describe()\n",
    "# 5 number summary:  min, max, Q1,Q2=median, Q3\n",
    "# IQR = Q3-Q1\n",
    "# outlier is anything beyond whisker boundaries = 1.5 * IQR\n",
    "# whisker is put at the value in the data within the boundaries\n",
    "# python uses linear interpolation to find values"
   ]
  },
  {
   "cell_type": "markdown",
   "id": "054f3153-0c81-4c16-9202-3df1f6d80978",
   "metadata": {},
   "source": [
    "## 10 Find the sample mean and sample standard deviation of position 1.  Create a histogram of this distribution."
   ]
  },
  {
   "cell_type": "code",
   "execution_count": 130,
   "id": "3effdf16-230f-494d-8f18-22bea2c83356",
   "metadata": {},
   "outputs": [
    {
     "data": {
      "text/plain": [
       "1689.3934"
      ]
     },
     "execution_count": 130,
     "metadata": {},
     "output_type": "execute_result"
    }
   ],
   "source": [
    "boards_no_time[\"Pos1\"].mean()"
   ]
  },
  {
   "cell_type": "code",
   "execution_count": 134,
   "id": "224a90d9-76a0-4f14-b774-ed07d820294b",
   "metadata": {},
   "outputs": [
    {
     "data": {
      "text/plain": [
       "1689.3934"
      ]
     },
     "execution_count": 134,
     "metadata": {},
     "output_type": "execute_result"
    }
   ],
   "source": [
    "np.mean(boards_no_time[\"Pos1\"])"
   ]
  },
  {
   "cell_type": "code",
   "execution_count": 139,
   "id": "82c42852-e144-4ac9-8c5d-f3db338d7431",
   "metadata": {},
   "outputs": [
    {
     "data": {
      "text/plain": [
       "43.8385241503399"
      ]
     },
     "execution_count": 139,
     "metadata": {},
     "output_type": "execute_result"
    }
   ],
   "source": [
    "np.std(boards_no_time[\"Pos1\"],ddof=1)"
   ]
  },
  {
   "cell_type": "code",
   "execution_count": 160,
   "id": "2077ab4f-8768-4c93-9184-7cdcb51fb571",
   "metadata": {},
   "outputs": [
    {
     "data": {
      "text/plain": [
       "(870.0, 2000.0)"
      ]
     },
     "execution_count": 160,
     "metadata": {},
     "output_type": "execute_result"
    },
    {
     "data": {
      "image/png": "[encoded data removed]",
      "text/plain": [
       "<Figure size 720x432 with 1 Axes>"
      ]
     },
     "metadata": {},
     "output_type": "display_data"
    }
   ],
   "source": [
    "sns.histplot(data=boards_no_time[\"Pos1\"],bins='auto')\n",
    "plt.xlim(870,2000)"
   ]
  },
  {
   "cell_type": "markdown",
   "id": "174ebd39-c7b6-4af1-867b-a7b05df59d0a",
   "metadata": {},
   "source": [
    "A histogram is a summary of the variation in a measured variable. \n",
    "\n",
    "It shows the number of samples that occur in a group of equal intervals (bins): this is called a frequency distribution.\n",
    "\n",
    "Histograms give a rough sense of the density of the underlying distribution of the data\n",
    "We will use histograms for estimating the probability distributions of variables.  "
   ]
  },
  {
   "cell_type": "code",
   "execution_count": null,
   "id": "4c34410d-4ae0-420e-bc4b-c4b0cb3781f6",
   "metadata": {},
   "outputs": [],
   "source": []
  }
 ],
 "metadata": {
  "kernelspec": {
   "display_name": "Python 3 (ipykernel)",
   "language": "python",
   "name": "python3"
  },
  "language_info": {
   "codemirror_mode": {
    "name": "ipython",
    "version": 3
   },
   "file_extension": ".py",
   "mimetype": "text/x-python",
   "name": "python",
   "nbconvert_exporter": "python",
   "pygments_lexer": "ipython3",
   "version": "3.9.12"
  }
 },
 "nbformat": 4,
 "nbformat_minor": 5
}
