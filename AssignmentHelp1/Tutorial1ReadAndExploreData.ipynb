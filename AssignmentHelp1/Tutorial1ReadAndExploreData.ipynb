{
 "cells": [
  {
   "cell_type": "code",
   "execution_count": 97,
   "id": "8355e656-82c4-45db-baad-6e3fab3a5593",
   "metadata": {},
   "outputs": [
    {
     "name": "stdin",
     "output_type": "stream",
     "text": [
      "Once deleted, variables cannot be recovered. Proceed (y/[n])?  y\n"
     ]
    }
   ],
   "source": [
    "%reset"
   ]
  },
  {
   "cell_type": "markdown",
   "id": "dressed-applicant",
   "metadata": {
    "tags": []
   },
   "source": [
    "# Reading data into python"
   ]
  },
  {
   "cell_type": "markdown",
   "id": "eacd9ede-383e-4a39-ab78-2a64000ae410",
   "metadata": {
    "tags": []
   },
   "source": [
    "## 1 Read the \"six-point-board-thickness.csv\" file into Python. You will need to import some packages to use. Take a look through the dataframe to review.   "
   ]
  },
  {
   "cell_type": "code",
   "execution_count": null,
   "id": "b1203ecc-8e8f-4f91-bc48-e57c916c0feb",
   "metadata": {},
   "outputs": [],
   "source": []
  },
  {
   "cell_type": "markdown",
   "id": "a0130a83-2569-4c85-9257-a08727b7eb9e",
   "metadata": {},
   "source": [
    "## 2 Explore the dataframe and summarize the dataframe.  What are the 3 attributes and 3 components of the dataframe? Are there any missing values?\n",
    "\n",
    "type(all_boards)  \n",
    "len(all_boards)  \n",
    "all_boards.shape  \n",
    "all_boards.ndim  \n",
    "all_boards.size  \n",
    "all_boards.columns  \n",
    "all_boards.index  \n",
    "all_boards.info()  \n",
    "all_boards.to_numpy()  \n",
    "all_boards.head()\n",
    "all_boards.describe()\n",
    "all_boards.dtypes"
   ]
  },
  {
   "cell_type": "code",
   "execution_count": null,
   "id": "b9627542-869e-4dc7-b5ec-aa620959cded",
   "metadata": {},
   "outputs": [],
   "source": []
  },
  {
   "cell_type": "markdown",
   "id": "b5c149ff-dc20-45ec-8066-1d3fb1fcf091",
   "metadata": {},
   "source": [
    "## 3 What are the datatypes for the variables?  Are these the datatypes you want for the variables?\n",
    "![](DataTypesTutorial1Figure.png)"
   ]
  },
  {
   "cell_type": "code",
   "execution_count": null,
   "id": "a9712192-f802-49d4-9a52-5dc4128d57e8",
   "metadata": {},
   "outputs": [],
   "source": []
  },
  {
   "cell_type": "markdown",
   "id": "30a72f7f-e0a3-4a7b-a212-c583a0c6680e",
   "metadata": {},
   "source": [
    "## 4 Let's convert the Date.Time object type to a pandas datetime type so that we can use it in a time series plot\n",
    "\n",
    "### to_datetime\n",
    "\n",
    "all_boards[\"Date.Time\"]=pd.to_datetime(all_boards[\"Date.Time\"])\n",
    "\n",
    "all_boards[\"time\"]=all_boards[\"Date.Time\"].dt.time\n",
    "\n",
    "### .astype\n",
    "\n",
    "all_boards[\"Date.Time\"]=all_boards[\"Date.Time\"].astype(\"datetime64\")\n"
   ]
  },
  {
   "cell_type": "code",
   "execution_count": null,
   "id": "cd1c15bd-e956-468d-a6c3-a646623154ad",
   "metadata": {},
   "outputs": [],
   "source": []
  },
  {
   "cell_type": "markdown",
   "id": "3bfda754-f3a9-4e5a-84db-83f424f3def9",
   "metadata": {},
   "source": [
    "## 5 Plot a time series plot for Position 1 over time. \n",
    "\n",
    "Use:  \n",
    "all_boards.plot(\"Time\",\"Pos1\")"
   ]
  },
  {
   "cell_type": "code",
   "execution_count": null,
   "id": "e6f3019e-8460-4f74-a553-53c9619948df",
   "metadata": {},
   "outputs": [],
   "source": []
  },
  {
   "cell_type": "markdown",
   "id": "0c774c31-4396-486e-b015-7b1f32c12f95",
   "metadata": {},
   "source": [
    "## 6 Drop the Time.Date and Time columns"
   ]
  },
  {
   "cell_type": "code",
   "execution_count": null,
   "id": "a2921504-6fe8-4c7f-8f63-a1f3411d7951",
   "metadata": {},
   "outputs": [],
   "source": []
  },
  {
   "cell_type": "markdown",
   "id": "e28aee52-9586-40f0-a638-316de9a35388",
   "metadata": {},
   "source": [
    "## 7 Filter the dataframe (all columns) that have less than 1650 mils for position 1:   pos1 < 1650\n"
   ]
  },
  {
   "cell_type": "code",
   "execution_count": null,
   "id": "41e0cc6b-f90b-4425-845f-7fa27efebd96",
   "metadata": {},
   "outputs": [],
   "source": []
  },
  {
   "cell_type": "markdown",
   "id": "65125a01-a530-4642-a8c8-97240f127432",
   "metadata": {},
   "source": [
    "## 8 Create a Barplot for thickness by position\n",
    "\n",
    "import and use the plotting libraries, either matplotlib or seaborn"
   ]
  },
  {
   "cell_type": "code",
   "execution_count": null,
   "id": "ab4a2cd4-54ba-42e8-92a7-1720f5c8da45",
   "metadata": {},
   "outputs": [],
   "source": []
  },
  {
   "cell_type": "markdown",
   "id": "08278e67-12d9-478d-b712-5945c464f1c7",
   "metadata": {},
   "source": [
    "## 9 Create a Boxplot for thickness by position. Copy and paste the boxplot to a word document.   \n",
    "\n",
    "For Position 1, identify the elements of the boxplot:  5 number summary and any outliers"
   ]
  },
  {
   "cell_type": "code",
   "execution_count": null,
   "id": "312887cd-54c2-4167-b1c8-cff7744df340",
   "metadata": {},
   "outputs": [],
   "source": []
  },
  {
   "cell_type": "markdown",
   "id": "054f3153-0c81-4c16-9202-3df1f6d80978",
   "metadata": {},
   "source": [
    "## 10 Find the sample mean and sample standard deviation of position 1.  Create a histogram of this distribution."
   ]
  },
  {
   "cell_type": "code",
   "execution_count": null,
   "id": "4c34410d-4ae0-420e-bc4b-c4b0cb3781f6",
   "metadata": {},
   "outputs": [],
   "source": []
  }
 ],
 "metadata": {
  "kernelspec": {
   "display_name": "Python 3 (ipykernel)",
   "language": "python",
   "name": "python3"
  },
  "language_info": {
   "codemirror_mode": {
    "name": "ipython",
    "version": 3
   },
   "file_extension": ".py",
   "mimetype": "text/x-python",
   "name": "python",
   "nbconvert_exporter": "python",
   "pygments_lexer": "ipython3",
   "version": "3.9.12"
  }
 },
 "nbformat": 4,
 "nbformat_minor": 5
}
